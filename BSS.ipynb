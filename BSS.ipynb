{
  "cells": [
    {
      "attachments": {},
      "cell_type": "markdown",
      "metadata": {
        "id": "BtO9jMGEaShb"
      },
      "source": [
        "# Blind source separation - Delivered by Scala Simona\n",
        "The purpose of the project is to separate an image obtained as a sum of a two images into its components. \n",
        "\n",
        "The two images img1 and img2 summed together come from different dataset: mnist and fashion_mnist, respectively.\n",
        "\n",
        "No preprocessing is allowed. The network takes in input the sum img1+img2 and returns the predicted components hat_img1 and hat_img2. \n",
        "\n",
        "The metric used to evaluate the project is the mean squared error between predicted and ground truth images.\n"
      ]
    },
    {
      "cell_type": "code",
      "execution_count": 1,
      "metadata": {
        "id": "wrlTnZCNfnfr"
      },
      "outputs": [],
      "source": [
        "import tensorflow as tf\n",
        "from tensorflow import keras as ks\n",
        "from tensorflow.keras import layers\n",
        "from tensorflow.keras.datasets import mnist, fashion_mnist\n",
        "from tensorflow.keras.callbacks import ReduceLROnPlateau\n",
        "\n",
        "import numpy as np\n",
        "from matplotlib import pyplot as plt\n",
        "\n",
        "np.random.seed(90)"
      ]
    },
    {
      "cell_type": "markdown",
      "metadata": {
        "id": "fRotM-TfcUcn"
      },
      "source": [
        "Here we load the two datasets, mnist and fashion mnist (both in grayscale).\n",
        "\n",
        "For simplicity, the samples are padded to dimension (32,32)."
      ]
    },
    {
      "cell_type": "code",
      "execution_count": 2,
      "metadata": {
        "colab": {
          "base_uri": "https://localhost:8080/"
        },
        "id": "yRYiW2ipukZF",
        "outputId": "fd8f5546-7691-47b4-b376-783feeaa285a"
      },
      "outputs": [
        {
          "name": "stdout",
          "output_type": "stream",
          "text": [
            "Downloading data from https://storage.googleapis.com/tensorflow/tf-keras-datasets/mnist.npz\n",
            "11493376/11490434 [==============================] - 0s 0us/step\n",
            "11501568/11490434 [==============================] - 0s 0us/step\n",
            "(60000, 28, 28)\n",
            "Downloading data from https://storage.googleapis.com/tensorflow/tf-keras-datasets/train-labels-idx1-ubyte.gz\n",
            "32768/29515 [=================================] - 0s 0us/step\n",
            "40960/29515 [=========================================] - 0s 0us/step\n",
            "Downloading data from https://storage.googleapis.com/tensorflow/tf-keras-datasets/train-images-idx3-ubyte.gz\n",
            "26427392/26421880 [==============================] - 0s 0us/step\n",
            "26435584/26421880 [==============================] - 0s 0us/step\n",
            "Downloading data from https://storage.googleapis.com/tensorflow/tf-keras-datasets/t10k-labels-idx1-ubyte.gz\n",
            "16384/5148 [===============================================================================================] - 0s 0us/step\n",
            "Downloading data from https://storage.googleapis.com/tensorflow/tf-keras-datasets/t10k-images-idx3-ubyte.gz\n",
            "4423680/4422102 [==============================] - 0s 0us/step\n",
            "4431872/4422102 [==============================] - 0s 0us/step\n",
            "(60000, 32, 32)\n"
          ]
        }
      ],
      "source": [
        "(mnist_x_train, mnist_y_train), (mnist_x_test, mnist_y_test) = mnist.load_data()\n",
        "print(np.shape(mnist_x_train))\n",
        "(fashion_mnist_x_train, fashion_mnist_y_train), (fashion_mnist_x_test, fashion_mnist_y_test) = fashion_mnist.load_data()\n",
        "#normnalize in and pad\n",
        "mnist_x_train = np.pad(mnist_x_train,((0,0),(2,2),(2,2)))/255.\n",
        "print(np.shape(mnist_x_train))\n",
        "mnist_x_test = np.pad(mnist_x_test,((0,0),(2,2),(2,2)))/255.\n",
        "fashion_mnist_x_train = np.pad(fashion_mnist_x_train,((0,0),(2,2),(2,2)))/255.\n",
        "fashion_mnist_x_test = np.pad(fashion_mnist_x_test,((0,0),(2,2),(2,2)))/255."
      ]
    },
    {
      "cell_type": "code",
      "execution_count": 3,
      "metadata": {
        "colab": {
          "base_uri": "https://localhost:8080/"
        },
        "id": "WBIWB2a-VGqH",
        "outputId": "9230f3fe-ac4c-42c5-c1b3-029cb7d78956"
      },
      "outputs": [
        {
          "name": "stdout",
          "output_type": "stream",
          "text": [
            "(60000, 32, 32)\n"
          ]
        }
      ],
      "source": [
        "print(np.shape(mnist_x_train))"
      ]
    },
    {
      "cell_type": "markdown",
      "metadata": {
        "id": "Or5X_DyPc6dT"
      },
      "source": [
        "Here is a simple datagenerator."
      ]
    },
    {
      "cell_type": "code",
      "execution_count": 4,
      "metadata": {
        "id": "7Y5Zpv5fw2hd"
      },
      "outputs": [],
      "source": [
        "def datagenerator(x1,x2,batchsize):\n",
        "    n1 = x1.shape[0]\n",
        "    n2 = x2.shape[0]\n",
        "    while True:\n",
        "        num1 = np.random.randint(0, n1, batchsize)\n",
        "        num2 = np.random.randint(0, n2, batchsize)\n",
        "\n",
        "        x_data = (x1[num1] + x2[num2]) / 2.0\n",
        "        y_data = np.concatenate((x1[num1], x2[num2]), axis=2)\n",
        "\n",
        "        yield x_data, y_data"
      ]
    },
    {
      "cell_type": "markdown",
      "metadata": {
        "id": "9JLwLpsrdVH-"
      },
      "source": [
        "Here we define two generators, one for training and one for testing. You may possibly add an addition generator for validation, further splitting the dataset."
      ]
    },
    {
      "cell_type": "code",
      "execution_count": 5,
      "metadata": {
        "id": "Xc95qrN72Ysu"
      },
      "outputs": [],
      "source": [
        "batchsize = 64\n",
        "inputShape = (32,32,1)"
      ]
    },
    {
      "cell_type": "markdown",
      "metadata": {
        "id": "SziHMmIZ-1GL"
      },
      "source": [
        "In the following, I've set `batchsize` as the batch size passed to the `datagenerator` function which will be used later to compute the total number of samples in the `fit` function. As suggested, I've added a generator for validation."
      ]
    },
    {
      "cell_type": "code",
      "execution_count": 6,
      "metadata": {
        "id": "dkv8Qc9-wEnf"
      },
      "outputs": [],
      "source": [
        "train_generator = datagenerator(mnist_x_train,fashion_mnist_x_train,batchsize)\n",
        "validation_generator = datagenerator(mnist_x_train,fashion_mnist_x_train,batchsize)\n",
        "test_generator = datagenerator(mnist_x_test,fashion_mnist_x_test,batchsize)"
      ]
    },
    {
      "cell_type": "markdown",
      "metadata": {
        "id": "UiVcyHrVeXpI"
      },
      "source": [
        "Let us look at some input-output pairs"
      ]
    },
    {
      "cell_type": "code",
      "execution_count": 7,
      "metadata": {
        "colab": {
          "base_uri": "https://localhost:8080/",
          "height": 466
        },
        "id": "MPslGyNdxUQS",
        "outputId": "54c3bf33-3b7e-480b-cfe1-e90c452cdfcb"
      },
      "outputs": [
        {
          "data": {
            "image/png": "[encoded data removed]",
            "text/plain": [
              "<Figure size 432x288 with 1 Axes>"
            ]
          },
          "metadata": {
            "needs_background": "light"
          },
          "output_type": "display_data"
        },
        {
          "data": {
            "image/png": "[encoded data removed]",
            "text/plain": [
              "<Figure size 432x288 with 1 Axes>"
            ]
          },
          "metadata": {
            "needs_background": "light"
          },
          "output_type": "display_data"
        }
      ],
      "source": [
        "x, y = next(train_generator)\n",
        "plt.imshow(x[0],cmap='gray', interpolation='nearest')\n",
        "plt.show()\n",
        "plt.imshow(y[0], cmap='gray', interpolation='nearest')\n",
        "plt.show()"
      ]
    },
    {
      "cell_type": "markdown",
      "metadata": {
        "id": "q8yqAyNQeiHC"
      },
      "source": [
        "I've used the `display_prediction` function at the end of the notebook to show ten images predicted by my model compared to ten labels taken from the test set."
      ]
    },
    {
      "cell_type": "code",
      "execution_count": 8,
      "metadata": {
        "id": "FlrjWGUqNvNx"
      },
      "outputs": [],
      "source": [
        "def display_prediction(array1, array2, s1, s2):\n",
        "    \"\"\"\n",
        "    Displays ten random images from each one of the supplied arrays.\n",
        "    \"\"\"\n",
        "\n",
        "    n = 10\n",
        "\n",
        "    indices = np.random.randint(len(array1), size=n)\n",
        "    images1 = array1[indices, :]\n",
        "    images2 = array2[indices, :]\n",
        "\n",
        "    plt.figure(figsize=(20, 4))\n",
        "    for i, (image1, image2) in enumerate(zip(images1, images2)):\n",
        "        ax = plt.subplot(2, n, i + 1)\n",
        "        plt.imshow(image1.reshape(s1, s2))\n",
        "        plt.gray()\n",
        "        ax.get_xaxis().set_visible(False)\n",
        "        ax.get_yaxis().set_visible(False)\n",
        "\n",
        "        ax = plt.subplot(2, n, i + 1 + n)\n",
        "        plt.imshow(image2.reshape(s1, s2))\n",
        "        plt.gray()\n",
        "        ax.get_xaxis().set_visible(False)\n",
        "        ax.get_yaxis().set_visible(False)\n",
        "\n",
        "    plt.show()"
      ]
    },
    {
      "cell_type": "markdown",
      "metadata": {
        "id": "6Cf2FIVOslK-"
      },
      "source": [
        "I've used the `display_MSE` function to show the trend of Mean Squared Error during training after fitting the model. The graph will show both the training set trend and the validation one."
      ]
    },
    {
      "cell_type": "code",
      "execution_count": 9,
      "metadata": {
        "id": "NpYC-Qw7PcCr"
      },
      "outputs": [],
      "source": [
        "def display_MSE(history):\n",
        "\n",
        "    mse_training = history.history['mse']\n",
        "    mse_val = history.history['val_mse']\n",
        "\n",
        "    # Visualize the behavior of the MSE\n",
        "    plt.plot(mse_training)\n",
        "    plt.plot(mse_val)\n",
        "    plt.grid()\n",
        "    plt.title('MSE during training')\n",
        "    plt.xlabel('Epoch')\n",
        "    plt.legend(['Training', 'Validation'])\n",
        "    plt.show()"
      ]
    },
    {
      "cell_type": "markdown",
      "metadata": {
        "id": "8SdIoe_zthjC"
      },
      "source": [
        "The `build_BSS` function builds a model which has to solve a Blind Source Separation problem. To build the model, I've adopted a convolutional network. In particular, I've started from the implementation of the *u-net* model proposed in [this](https://lmb.informatik.uni-freiburg.de/people/ronneber/u-net/) paper.<br><br>\n",
        "U-net was adopted in *biomedical image segmentation* with outstanding results. Its architecture consists of a number of different operations which follow a *downpath* where the input image feeds a sequence of **convolutions** and **maxpooling** operations, resulting in a spacial contraction. Each convolution is followed by a non-linear activation function (`relu`). It follows an *uppath* where an expansion is performed by a sequence of **up-convolutions** and **concatenations** with high-resolution features from contracting path to obtain a high resolution segmentation map.<br><br>\n",
        "I've adapted this network to our problem by setting the number of channels to `n_ch=32` to speed up the computation and by incrementing the number of convolutions per layer which I've incremented to `conv_per_L=4` to extract more features. Moreover, I've added a `BatchNormalization()` layer after each convolution. This layer standardizes the input to the next layer for each mini-batch and optimizes the performances of the model.\n",
        "<br><br>\n",
        "Finally, in the last convolutional layer, I've set to 2 the dimensionality of the output space (i.e. the number of output filters in the convolution).<br>\n",
        "`y = ks.layers.Conv2D(2, 1, activation='relu')(h)`\n",
        "<br>By this way I've obtained two *32x32* feature maps that represents the two segmented objects (one from the `mnist` dataset and the other from the `fashion_mnist` one) which are reshaped in a *32x64* output coherent with the labels of the dataset."
      ]
    },
    {
      "cell_type": "code",
      "execution_count": 10,
      "metadata": {
        "id": "a8BAKQRsPU2A"
      },
      "outputs": [],
      "source": [
        "def build_BSS(input_shape, n_ch=32, L=4, conv_per_L=4):\n",
        "    x = ks.layers.Input(shape=input_shape)\n",
        "\n",
        "    # DOWN\n",
        "    backup_layers = []\n",
        "    h = x\n",
        "    for l in range(L):\n",
        "\n",
        "        # Each level in the descent phase\n",
        "        for c in range(conv_per_L):\n",
        "            h = ks.layers.Conv2D(n_ch, 3, 1, padding='same')(h)\n",
        "            h = ks.layers.ReLU()(h)\n",
        "            h = ks.layers.BatchNormalization()(h)\n",
        "\n",
        "        if l < L-1:\n",
        "            # Downsample\n",
        "            backup_layers.append(h) # save for the skip connection \n",
        "            h = ks.layers.MaxPool2D(padding='same')(h)\n",
        "\n",
        "            # Update the channels\n",
        "            n_ch = n_ch * 2\n",
        "    \n",
        "    # UP\n",
        "    for l in range(L-1):\n",
        "        # Reduce the channels\n",
        "        n_ch = n_ch // 2\n",
        "\n",
        "        # Upsample\n",
        "        h = ks.layers.Conv2DTranspose(n_ch, 3, 2, padding='same')(h)\n",
        "\n",
        "        # Concatenate\n",
        "        h = ks.layers.concatenate([h, backup_layers.pop(-1)])\n",
        "\n",
        "        # Each floor in the up phase\n",
        "        for c in range(conv_per_L):\n",
        "            h = ks.layers.Conv2D(n_ch, 3, 1, padding='same')(h)\n",
        "            h = ks.layers.ReLU()(h)\n",
        "            h = ks.layers.BatchNormalization()(h)\n",
        "        \n",
        "    # Output\n",
        "    y = ks.layers.Conv2D(2, 1, activation='relu')(h)\n",
        "    y = ks.layers.BatchNormalization()(y)\n",
        "    y = layers.Reshape((32,64,1))(y) # output shape: (32,64,1)\n",
        "    return ks.models.Model(x, y)"
      ]
    },
    {
      "cell_type": "markdown",
      "metadata": {
        "id": "5i7PmJ5p0Dm_"
      },
      "source": [
        "As a callback, I've instantiated the `ReduceRLOnPlateau` from tensorflow which reduces the learning rate when a metric (in my case, `val_mse`) has stopped improving so that the model can benefit from this reduction. With this callback, if no improvement is seen for a `patience` number of epochs, the learning rate is reduced.\n",
        "I've set `min_lr=1e-6` because I've considered an exponential learning rate *10*$^{-7}$ to be too small as increasing step and `min_delta=1e-5` so that the minimum improvement of the validation MSE should be at least of exponential rate *10*$^{-5}$ since we're monitoring very small quantities."
      ]
    },
    {
      "cell_type": "code",
      "execution_count": 11,
      "metadata": {
        "id": "A1ZY9n40ZELy"
      },
      "outputs": [],
      "source": [
        "reduce_lr = ReduceLROnPlateau(monitor='val_mse', factor=0.1, patience=4, min_lr=1e-6, verbose=1, mode='min', min_delta=1e-5)"
      ]
    },
    {
      "cell_type": "markdown",
      "metadata": {
        "id": "lKaPTzbE5U-x"
      },
      "source": [
        "Here, I've instantiated the model by choosing `Adam` optimizer and `mse` both as loss and as metric, since the metric was required in the trace. The I've printed out a summary of the model."
      ]
    },
    {
      "cell_type": "code",
      "execution_count": 12,
      "metadata": {
        "colab": {
          "base_uri": "https://localhost:8080/"
        },
        "id": "LQXuaIKSHGkT",
        "outputId": "e55b9d6c-8c83-4316-d6f5-18f5e5c0e35b"
      },
      "outputs": [
        {
          "name": "stdout",
          "output_type": "stream",
          "text": [
            "Model: \"model\"\n",
            "__________________________________________________________________________________________________\n",
            " Layer (type)                   Output Shape         Param #     Connected to                     \n",
            "==================================================================================================\n",
            " input_1 (InputLayer)           [(None, 32, 32, 1)]  0           []                               \n",
            "                                                                                                  \n",
            " conv2d (Conv2D)                (None, 32, 32, 32)   320         ['input_1[0][0]']                \n",
            "                                                                                                  \n",
            " re_lu (ReLU)                   (None, 32, 32, 32)   0           ['conv2d[0][0]']                 \n",
            "                                                                                                  \n",
            " batch_normalization (BatchNorm  (None, 32, 32, 32)  128         ['re_lu[0][0]']                  \n",
            " alization)                                                                                       \n",
            "                                                                                                  \n",
            " conv2d_1 (Conv2D)              (None, 32, 32, 32)   9248        ['batch_normalization[0][0]']    \n",
            "                                                                                                  \n",
            " re_lu_1 (ReLU)                 (None, 32, 32, 32)   0           ['conv2d_1[0][0]']               \n",
            "                                                                                                  \n",
            " batch_normalization_1 (BatchNo  (None, 32, 32, 32)  128         ['re_lu_1[0][0]']                \n",
            " rmalization)                                                                                     \n",
            "                                                                                                  \n",
            " conv2d_2 (Conv2D)              (None, 32, 32, 32)   9248        ['batch_normalization_1[0][0]']  \n",
            "                                                                                                  \n",
            " re_lu_2 (ReLU)                 (None, 32, 32, 32)   0           ['conv2d_2[0][0]']               \n",
            "                                                                                                  \n",
            " batch_normalization_2 (BatchNo  (None, 32, 32, 32)  128         ['re_lu_2[0][0]']                \n",
            " rmalization)                                                                                     \n",
            "                                                                                                  \n",
            " conv2d_3 (Conv2D)              (None, 32, 32, 32)   9248        ['batch_normalization_2[0][0]']  \n",
            "                                                                                                  \n",
            " re_lu_3 (ReLU)                 (None, 32, 32, 32)   0           ['conv2d_3[0][0]']               \n",
            "                                                                                                  \n",
            " batch_normalization_3 (BatchNo  (None, 32, 32, 32)  128         ['re_lu_3[0][0]']                \n",
            " rmalization)                                                                                     \n",
            "                                                                                                  \n",
            " max_pooling2d (MaxPooling2D)   (None, 16, 16, 32)   0           ['batch_normalization_3[0][0]']  \n",
            "                                                                                                  \n",
            " conv2d_4 (Conv2D)              (None, 16, 16, 64)   18496       ['max_pooling2d[0][0]']          \n",
            "                                                                                                  \n",
            " re_lu_4 (ReLU)                 (None, 16, 16, 64)   0           ['conv2d_4[0][0]']               \n",
            "                                                                                                  \n",
            " batch_normalization_4 (BatchNo  (None, 16, 16, 64)  256         ['re_lu_4[0][0]']                \n",
            " rmalization)                                                                                     \n",
            "                                                                                                  \n",
            " conv2d_5 (Conv2D)              (None, 16, 16, 64)   36928       ['batch_normalization_4[0][0]']  \n",
            "                                                                                                  \n",
            " re_lu_5 (ReLU)                 (None, 16, 16, 64)   0           ['conv2d_5[0][0]']               \n",
            "                                                                                                  \n",
            " batch_normalization_5 (BatchNo  (None, 16, 16, 64)  256         ['re_lu_5[0][0]']                \n",
            " rmalization)                                                                                     \n",
            "                                                                                                  \n",
            " conv2d_6 (Conv2D)              (None, 16, 16, 64)   36928       ['batch_normalization_5[0][0]']  \n",
            "                                                                                                  \n",
            " re_lu_6 (ReLU)                 (None, 16, 16, 64)   0           ['conv2d_6[0][0]']               \n",
            "                                                                                                  \n",
            " batch_normalization_6 (BatchNo  (None, 16, 16, 64)  256         ['re_lu_6[0][0]']                \n",
            " rmalization)                                                                                     \n",
            "                                                                                                  \n",
            " conv2d_7 (Conv2D)              (None, 16, 16, 64)   36928       ['batch_normalization_6[0][0]']  \n",
            "                                                                                                  \n",
            " re_lu_7 (ReLU)                 (None, 16, 16, 64)   0           ['conv2d_7[0][0]']               \n",
            "                                                                                                  \n",
            " batch_normalization_7 (BatchNo  (None, 16, 16, 64)  256         ['re_lu_7[0][0]']                \n",
            " rmalization)                                                                                     \n",
            "                                                                                                  \n",
            " max_pooling2d_1 (MaxPooling2D)  (None, 8, 8, 64)    0           ['batch_normalization_7[0][0]']  \n",
            "                                                                                                  \n",
            " conv2d_8 (Conv2D)              (None, 8, 8, 128)    73856       ['max_pooling2d_1[0][0]']        \n",
            "                                                                                                  \n",
            " re_lu_8 (ReLU)                 (None, 8, 8, 128)    0           ['conv2d_8[0][0]']               \n",
            "                                                                                                  \n",
            " batch_normalization_8 (BatchNo  (None, 8, 8, 128)   512         ['re_lu_8[0][0]']                \n",
            " rmalization)                                                                                     \n",
            "                                                                                                  \n",
            " conv2d_9 (Conv2D)              (None, 8, 8, 128)    147584      ['batch_normalization_8[0][0]']  \n",
            "                                                                                                  \n",
            " re_lu_9 (ReLU)                 (None, 8, 8, 128)    0           ['conv2d_9[0][0]']               \n",
            "                                                                                                  \n",
            " batch_normalization_9 (BatchNo  (None, 8, 8, 128)   512         ['re_lu_9[0][0]']                \n",
            " rmalization)                                                                                     \n",
            "                                                                                                  \n",
            " conv2d_10 (Conv2D)             (None, 8, 8, 128)    147584      ['batch_normalization_9[0][0]']  \n",
            "                                                                                                  \n",
            " re_lu_10 (ReLU)                (None, 8, 8, 128)    0           ['conv2d_10[0][0]']              \n",
            "                                                                                                  \n",
            " batch_normalization_10 (BatchN  (None, 8, 8, 128)   512         ['re_lu_10[0][0]']               \n",
            " ormalization)                                                                                    \n",
            "                                                                                                  \n",
            " conv2d_11 (Conv2D)             (None, 8, 8, 128)    147584      ['batch_normalization_10[0][0]'] \n",
            "                                                                                                  \n",
            " re_lu_11 (ReLU)                (None, 8, 8, 128)    0           ['conv2d_11[0][0]']              \n",
            "                                                                                                  \n",
            " batch_normalization_11 (BatchN  (None, 8, 8, 128)   512         ['re_lu_11[0][0]']               \n",
            " ormalization)                                                                                    \n",
            "                                                                                                  \n",
            " max_pooling2d_2 (MaxPooling2D)  (None, 4, 4, 128)   0           ['batch_normalization_11[0][0]'] \n",
            "                                                                                                  \n",
            " conv2d_12 (Conv2D)             (None, 4, 4, 256)    295168      ['max_pooling2d_2[0][0]']        \n",
            "                                                                                                  \n",
            " re_lu_12 (ReLU)                (None, 4, 4, 256)    0           ['conv2d_12[0][0]']              \n",
            "                                                                                                  \n",
            " batch_normalization_12 (BatchN  (None, 4, 4, 256)   1024        ['re_lu_12[0][0]']               \n",
            " ormalization)                                                                                    \n",
            "                                                                                                  \n",
            " conv2d_13 (Conv2D)             (None, 4, 4, 256)    590080      ['batch_normalization_12[0][0]'] \n",
            "                                                                                                  \n",
            " re_lu_13 (ReLU)                (None, 4, 4, 256)    0           ['conv2d_13[0][0]']              \n",
            "                                                                                                  \n",
            " batch_normalization_13 (BatchN  (None, 4, 4, 256)   1024        ['re_lu_13[0][0]']               \n",
            " ormalization)                                                                                    \n",
            "                                                                                                  \n",
            " conv2d_14 (Conv2D)             (None, 4, 4, 256)    590080      ['batch_normalization_13[0][0]'] \n",
            "                                                                                                  \n",
            " re_lu_14 (ReLU)                (None, 4, 4, 256)    0           ['conv2d_14[0][0]']              \n",
            "                                                                                                  \n",
            " batch_normalization_14 (BatchN  (None, 4, 4, 256)   1024        ['re_lu_14[0][0]']               \n",
            " ormalization)                                                                                    \n",
            "                                                                                                  \n",
            " conv2d_15 (Conv2D)             (None, 4, 4, 256)    590080      ['batch_normalization_14[0][0]'] \n",
            "                                                                                                  \n",
            " re_lu_15 (ReLU)                (None, 4, 4, 256)    0           ['conv2d_15[0][0]']              \n",
            "                                                                                                  \n",
            " batch_normalization_15 (BatchN  (None, 4, 4, 256)   1024        ['re_lu_15[0][0]']               \n",
            " ormalization)                                                                                    \n",
            "                                                                                                  \n",
            " conv2d_transpose (Conv2DTransp  (None, 8, 8, 128)   295040      ['batch_normalization_15[0][0]'] \n",
            " ose)                                                                                             \n",
            "                                                                                                  \n",
            " concatenate (Concatenate)      (None, 8, 8, 256)    0           ['conv2d_transpose[0][0]',       \n",
            "                                                                  'batch_normalization_11[0][0]'] \n",
            "                                                                                                  \n",
            " conv2d_16 (Conv2D)             (None, 8, 8, 128)    295040      ['concatenate[0][0]']            \n",
            "                                                                                                  \n",
            " re_lu_16 (ReLU)                (None, 8, 8, 128)    0           ['conv2d_16[0][0]']              \n",
            "                                                                                                  \n",
            " batch_normalization_16 (BatchN  (None, 8, 8, 128)   512         ['re_lu_16[0][0]']               \n",
            " ormalization)                                                                                    \n",
            "                                                                                                  \n",
            " conv2d_17 (Conv2D)             (None, 8, 8, 128)    147584      ['batch_normalization_16[0][0]'] \n",
            "                                                                                                  \n",
            " re_lu_17 (ReLU)                (None, 8, 8, 128)    0           ['conv2d_17[0][0]']              \n",
            "                                                                                                  \n",
            " batch_normalization_17 (BatchN  (None, 8, 8, 128)   512         ['re_lu_17[0][0]']               \n",
            " ormalization)                                                                                    \n",
            "                                                                                                  \n",
            " conv2d_18 (Conv2D)             (None, 8, 8, 128)    147584      ['batch_normalization_17[0][0]'] \n",
            "                                                                                                  \n",
            " re_lu_18 (ReLU)                (None, 8, 8, 128)    0           ['conv2d_18[0][0]']              \n",
            "                                                                                                  \n",
            " batch_normalization_18 (BatchN  (None, 8, 8, 128)   512         ['re_lu_18[0][0]']               \n",
            " ormalization)                                                                                    \n",
            "                                                                                                  \n",
            " conv2d_19 (Conv2D)             (None, 8, 8, 128)    147584      ['batch_normalization_18[0][0]'] \n",
            "                                                                                                  \n",
            " re_lu_19 (ReLU)                (None, 8, 8, 128)    0           ['conv2d_19[0][0]']              \n",
            "                                                                                                  \n",
            " batch_normalization_19 (BatchN  (None, 8, 8, 128)   512         ['re_lu_19[0][0]']               \n",
            " ormalization)                                                                                    \n",
            "                                                                                                  \n",
            " conv2d_transpose_1 (Conv2DTran  (None, 16, 16, 64)  73792       ['batch_normalization_19[0][0]'] \n",
            " spose)                                                                                           \n",
            "                                                                                                  \n",
            " concatenate_1 (Concatenate)    (None, 16, 16, 128)  0           ['conv2d_transpose_1[0][0]',     \n",
            "                                                                  'batch_normalization_7[0][0]']  \n",
            "                                                                                                  \n",
            " conv2d_20 (Conv2D)             (None, 16, 16, 64)   73792       ['concatenate_1[0][0]']          \n",
            "                                                                                                  \n",
            " re_lu_20 (ReLU)                (None, 16, 16, 64)   0           ['conv2d_20[0][0]']              \n",
            "                                                                                                  \n",
            " batch_normalization_20 (BatchN  (None, 16, 16, 64)  256         ['re_lu_20[0][0]']               \n",
            " ormalization)                                                                                    \n",
            "                                                                                                  \n",
            " conv2d_21 (Conv2D)             (None, 16, 16, 64)   36928       ['batch_normalization_20[0][0]'] \n",
            "                                                                                                  \n",
            " re_lu_21 (ReLU)                (None, 16, 16, 64)   0           ['conv2d_21[0][0]']              \n",
            "                                                                                                  \n",
            " batch_normalization_21 (BatchN  (None, 16, 16, 64)  256         ['re_lu_21[0][0]']               \n",
            " ormalization)                                                                                    \n",
            "                                                                                                  \n",
            " conv2d_22 (Conv2D)             (None, 16, 16, 64)   36928       ['batch_normalization_21[0][0]'] \n",
            "                                                                                                  \n",
            " re_lu_22 (ReLU)                (None, 16, 16, 64)   0           ['conv2d_22[0][0]']              \n",
            "                                                                                                  \n",
            " batch_normalization_22 (BatchN  (None, 16, 16, 64)  256         ['re_lu_22[0][0]']               \n",
            " ormalization)                                                                                    \n",
            "                                                                                                  \n",
            " conv2d_23 (Conv2D)             (None, 16, 16, 64)   36928       ['batch_normalization_22[0][0]'] \n",
            "                                                                                                  \n",
            " re_lu_23 (ReLU)                (None, 16, 16, 64)   0           ['conv2d_23[0][0]']              \n",
            "                                                                                                  \n",
            " batch_normalization_23 (BatchN  (None, 16, 16, 64)  256         ['re_lu_23[0][0]']               \n",
            " ormalization)                                                                                    \n",
            "                                                                                                  \n",
            " conv2d_transpose_2 (Conv2DTran  (None, 32, 32, 32)  18464       ['batch_normalization_23[0][0]'] \n",
            " spose)                                                                                           \n",
            "                                                                                                  \n",
            " concatenate_2 (Concatenate)    (None, 32, 32, 64)   0           ['conv2d_transpose_2[0][0]',     \n",
            "                                                                  'batch_normalization_3[0][0]']  \n",
            "                                                                                                  \n",
            " conv2d_24 (Conv2D)             (None, 32, 32, 32)   18464       ['concatenate_2[0][0]']          \n",
            "                                                                                                  \n",
            " re_lu_24 (ReLU)                (None, 32, 32, 32)   0           ['conv2d_24[0][0]']              \n",
            "                                                                                                  \n",
            " batch_normalization_24 (BatchN  (None, 32, 32, 32)  128         ['re_lu_24[0][0]']               \n",
            " ormalization)                                                                                    \n",
            "                                                                                                  \n",
            " conv2d_25 (Conv2D)             (None, 32, 32, 32)   9248        ['batch_normalization_24[0][0]'] \n",
            "                                                                                                  \n",
            " re_lu_25 (ReLU)                (None, 32, 32, 32)   0           ['conv2d_25[0][0]']              \n",
            "                                                                                                  \n",
            " batch_normalization_25 (BatchN  (None, 32, 32, 32)  128         ['re_lu_25[0][0]']               \n",
            " ormalization)                                                                                    \n",
            "                                                                                                  \n",
            " conv2d_26 (Conv2D)             (None, 32, 32, 32)   9248        ['batch_normalization_25[0][0]'] \n",
            "                                                                                                  \n",
            " re_lu_26 (ReLU)                (None, 32, 32, 32)   0           ['conv2d_26[0][0]']              \n",
            "                                                                                                  \n",
            " batch_normalization_26 (BatchN  (None, 32, 32, 32)  128         ['re_lu_26[0][0]']               \n",
            " ormalization)                                                                                    \n",
            "                                                                                                  \n",
            " conv2d_27 (Conv2D)             (None, 32, 32, 32)   9248        ['batch_normalization_26[0][0]'] \n",
            "                                                                                                  \n",
            " re_lu_27 (ReLU)                (None, 32, 32, 32)   0           ['conv2d_27[0][0]']              \n",
            "                                                                                                  \n",
            " batch_normalization_27 (BatchN  (None, 32, 32, 32)  128         ['re_lu_27[0][0]']               \n",
            " ormalization)                                                                                    \n",
            "                                                                                                  \n",
            " conv2d_28 (Conv2D)             (None, 32, 32, 2)    66          ['batch_normalization_27[0][0]'] \n",
            "                                                                                                  \n",
            " batch_normalization_28 (BatchN  (None, 32, 32, 2)   8           ['conv2d_28[0][0]']              \n",
            " ormalization)                                                                                    \n",
            "                                                                                                  \n",
            " reshape (Reshape)              (None, 32, 64, 1)    0           ['batch_normalization_28[0][0]'] \n",
            "                                                                                                  \n",
            "==================================================================================================\n",
            "Total params: 4,106,570\n",
            "Trainable params: 4,100,934\n",
            "Non-trainable params: 5,636\n",
            "__________________________________________________________________________________________________\n",
            "None\n"
          ]
        }
      ],
      "source": [
        "BSS_model = build_BSS(inputShape)\n",
        "BSS_model.compile(optimizer=ks.optimizers.Adam(), loss='mse', metrics=['mse'])\n",
        "print(BSS_model.summary())"
      ]
    },
    {
      "cell_type": "markdown",
      "metadata": {
        "id": "3xijAjIR51Hs"
      },
      "source": [
        "The model shows a total number of 4M parameters."
      ]
    },
    {
      "cell_type": "markdown",
      "metadata": {
        "id": "gKpLdtlF6BU3"
      },
      "source": [
        "After compiling the model, I've fitted it.<br>\n",
        "`train_generator` was passed as first argument, which contains both train samples and labels. The total number of learned samples by epoch will be calculated as <br>\n",
        "$n=$ `steps_per_epoch` × `batchsize`\n",
        "<br>\n",
        "I've opted for a long run training of the model, so I've set a number of `steps_per_epoch=9500` ($n= 9500 \\times 64 = 608000$). I've kept `validation_steps=350` so that the computation would have not required too much effort and time.<br>\n",
        "As already mentioned, I've set `reduce_lr` as callback."
      ]
    },
    {
      "cell_type": "code",
      "execution_count": 13,
      "metadata": {
        "colab": {
          "base_uri": "https://localhost:8080/"
        },
        "id": "h3FlxCYgUiXU",
        "outputId": "e30abd1e-8289-4aa1-91cf-0ce8a78794c8"
      },
      "outputs": [
        {
          "name": "stdout",
          "output_type": "stream",
          "text": [
            "Epoch 1/50\n",
            "9500/9500 [==============================] - 430s 44ms/step - loss: 0.0207 - mse: 0.0207 - val_loss: 0.0022 - val_mse: 0.0022 - lr: 0.0010\n",
            "Epoch 2/50\n",
            "9500/9500 [==============================] - 413s 43ms/step - loss: 0.0017 - mse: 0.0017 - val_loss: 0.0013 - val_mse: 0.0013 - lr: 0.0010\n",
            "Epoch 3/50\n",
            "9500/9500 [==============================] - 412s 43ms/step - loss: 0.0013 - mse: 0.0013 - val_loss: 0.0010 - val_mse: 0.0010 - lr: 0.0010\n",
            "Epoch 4/50\n",
            "9500/9500 [==============================] - 412s 43ms/step - loss: 0.0011 - mse: 0.0011 - val_loss: 9.5938e-04 - val_mse: 9.5938e-04 - lr: 0.0010\n",
            "Epoch 5/50\n",
            "9500/9500 [==============================] - 414s 44ms/step - loss: 9.7131e-04 - mse: 9.7131e-04 - val_loss: 8.4203e-04 - val_mse: 8.4203e-04 - lr: 0.0010\n",
            "Epoch 6/50\n",
            "9500/9500 [==============================] - 412s 43ms/step - loss: 9.0720e-04 - mse: 9.0720e-04 - val_loss: 7.9203e-04 - val_mse: 7.9203e-04 - lr: 0.0010\n",
            "Epoch 7/50\n",
            "9500/9500 [==============================] - 416s 44ms/step - loss: 8.5845e-04 - mse: 8.5845e-04 - val_loss: 0.0013 - val_mse: 0.0013 - lr: 0.0010\n",
            "Epoch 8/50\n",
            "9500/9500 [==============================] - 417s 44ms/step - loss: 8.2127e-04 - mse: 8.2127e-04 - val_loss: 6.9180e-04 - val_mse: 6.9180e-04 - lr: 0.0010\n",
            "Epoch 9/50\n",
            "9500/9500 [==============================] - 415s 44ms/step - loss: 7.9281e-04 - mse: 7.9281e-04 - val_loss: 6.8646e-04 - val_mse: 6.8646e-04 - lr: 0.0010\n",
            "Epoch 10/50\n",
            "9500/9500 [==============================] - 417s 44ms/step - loss: 7.7271e-04 - mse: 7.7271e-04 - val_loss: 7.2219e-04 - val_mse: 7.2219e-04 - lr: 0.0010\n",
            "Epoch 11/50\n",
            "9500/9500 [==============================] - 414s 44ms/step - loss: 7.4777e-04 - mse: 7.4777e-04 - val_loss: 6.4483e-04 - val_mse: 6.4483e-04 - lr: 0.0010\n",
            "Epoch 12/50\n",
            "9500/9500 [==============================] - 414s 44ms/step - loss: 7.2930e-04 - mse: 7.2930e-04 - val_loss: 6.4666e-04 - val_mse: 6.4666e-04 - lr: 0.0010\n",
            "Epoch 13/50\n",
            "9500/9500 [==============================] - 413s 43ms/step - loss: 7.1350e-04 - mse: 7.1350e-04 - val_loss: 6.4484e-04 - val_mse: 6.4484e-04 - lr: 0.0010\n",
            "Epoch 14/50\n",
            "9500/9500 [==============================] - 413s 43ms/step - loss: 7.0029e-04 - mse: 7.0029e-04 - val_loss: 5.8535e-04 - val_mse: 5.8535e-04 - lr: 0.0010\n",
            "Epoch 15/50\n",
            "9500/9500 [==============================] - 413s 44ms/step - loss: 6.8869e-04 - mse: 6.8869e-04 - val_loss: 5.9899e-04 - val_mse: 5.9899e-04 - lr: 0.0010\n",
            "Epoch 16/50\n",
            "9500/9500 [==============================] - 413s 43ms/step - loss: 6.7835e-04 - mse: 6.7835e-04 - val_loss: 5.7592e-04 - val_mse: 5.7592e-04 - lr: 0.0010\n",
            "Epoch 17/50\n",
            "9500/9500 [==============================] - 414s 44ms/step - loss: 6.7243e-04 - mse: 6.7243e-04 - val_loss: 6.0096e-04 - val_mse: 6.0096e-04 - lr: 0.0010\n",
            "Epoch 18/50\n",
            "9500/9500 [==============================] - ETA: 0s - loss: 6.5896e-04 - mse: 6.5896e-04\n",
            "Epoch 18: ReduceLROnPlateau reducing learning rate to 0.00010000000474974513.\n",
            "9500/9500 [==============================] - 413s 44ms/step - loss: 6.5896e-04 - mse: 6.5896e-04 - val_loss: 6.3590e-04 - val_mse: 6.3590e-04 - lr: 0.0010\n",
            "Epoch 19/50\n",
            "9500/9500 [==============================] - 413s 43ms/step - loss: 6.0362e-04 - mse: 6.0362e-04 - val_loss: 5.0972e-04 - val_mse: 5.0972e-04 - lr: 1.0000e-04\n",
            "Epoch 20/50\n",
            "9500/9500 [==============================] - 415s 44ms/step - loss: 5.9811e-04 - mse: 5.9811e-04 - val_loss: 5.0341e-04 - val_mse: 5.0341e-04 - lr: 1.0000e-04\n",
            "Epoch 21/50\n",
            "9500/9500 [==============================] - 414s 44ms/step - loss: 5.9458e-04 - mse: 5.9458e-04 - val_loss: 5.0081e-04 - val_mse: 5.0081e-04 - lr: 1.0000e-04\n",
            "Epoch 22/50\n",
            "9500/9500 [==============================] - 414s 44ms/step - loss: 5.9486e-04 - mse: 5.9486e-04 - val_loss: 4.9766e-04 - val_mse: 4.9766e-04 - lr: 1.0000e-04\n",
            "Epoch 23/50\n",
            "9500/9500 [==============================] - 414s 44ms/step - loss: 5.9016e-04 - mse: 5.9016e-04 - val_loss: 4.9540e-04 - val_mse: 4.9540e-04 - lr: 1.0000e-04\n",
            "Epoch 24/50\n",
            "9500/9500 [==============================] - 414s 44ms/step - loss: 5.8882e-04 - mse: 5.8882e-04 - val_loss: 4.9540e-04 - val_mse: 4.9540e-04 - lr: 1.0000e-04\n",
            "Epoch 25/50\n",
            "9500/9500 [==============================] - 414s 44ms/step - loss: 5.8737e-04 - mse: 5.8737e-04 - val_loss: 4.9380e-04 - val_mse: 4.9380e-04 - lr: 1.0000e-04\n",
            "Epoch 26/50\n",
            "9500/9500 [==============================] - 413s 43ms/step - loss: 5.8614e-04 - mse: 5.8614e-04 - val_loss: 4.8643e-04 - val_mse: 4.8643e-04 - lr: 1.0000e-04\n",
            "Epoch 27/50\n",
            "9500/9500 [==============================] - 412s 43ms/step - loss: 5.8451e-04 - mse: 5.8451e-04 - val_loss: 4.9180e-04 - val_mse: 4.9180e-04 - lr: 1.0000e-04\n",
            "Epoch 28/50\n",
            "9500/9500 [==============================] - 412s 43ms/step - loss: 5.7973e-04 - mse: 5.7973e-04 - val_loss: 4.8664e-04 - val_mse: 4.8664e-04 - lr: 1.0000e-04\n",
            "Epoch 29/50\n",
            "9500/9500 [==============================] - 413s 43ms/step - loss: 5.8099e-04 - mse: 5.8099e-04 - val_loss: 4.8828e-04 - val_mse: 4.8828e-04 - lr: 1.0000e-04\n",
            "Epoch 30/50\n",
            "9499/9500 [============================>.] - ETA: 0s - loss: 5.7958e-04 - mse: 5.7958e-04\n",
            "Epoch 30: ReduceLROnPlateau reducing learning rate to 1.0000000474974514e-05.\n",
            "9500/9500 [==============================] - 413s 44ms/step - loss: 5.7958e-04 - mse: 5.7958e-04 - val_loss: 4.8865e-04 - val_mse: 4.8865e-04 - lr: 1.0000e-04\n",
            "Epoch 31/50\n",
            "9500/9500 [==============================] - 413s 43ms/step - loss: 5.7253e-04 - mse: 5.7253e-04 - val_loss: 4.8581e-04 - val_mse: 4.8581e-04 - lr: 1.0000e-05\n",
            "Epoch 32/50\n",
            "9500/9500 [==============================] - 413s 43ms/step - loss: 5.7356e-04 - mse: 5.7356e-04 - val_loss: 4.7624e-04 - val_mse: 4.7624e-04 - lr: 1.0000e-05\n",
            "Epoch 33/50\n",
            "9500/9500 [==============================] - 413s 44ms/step - loss: 5.7085e-04 - mse: 5.7085e-04 - val_loss: 4.8468e-04 - val_mse: 4.8468e-04 - lr: 1.0000e-05\n",
            "Epoch 34/50\n",
            "9500/9500 [==============================] - 413s 44ms/step - loss: 5.7259e-04 - mse: 5.7259e-04 - val_loss: 4.8074e-04 - val_mse: 4.8074e-04 - lr: 1.0000e-05\n",
            "Epoch 35/50\n",
            "9500/9500 [==============================] - 414s 44ms/step - loss: 5.7146e-04 - mse: 5.7146e-04 - val_loss: 4.7908e-04 - val_mse: 4.7908e-04 - lr: 1.0000e-05\n",
            "Epoch 36/50\n",
            "9500/9500 [==============================] - ETA: 0s - loss: 5.6950e-04 - mse: 5.6950e-04\n",
            "Epoch 36: ReduceLROnPlateau reducing learning rate to 1.0000000656873453e-06.\n",
            "9500/9500 [==============================] - 413s 43ms/step - loss: 5.6950e-04 - mse: 5.6950e-04 - val_loss: 4.8034e-04 - val_mse: 4.8034e-04 - lr: 1.0000e-05\n",
            "Epoch 37/50\n",
            "9500/9500 [==============================] - 413s 43ms/step - loss: 5.7122e-04 - mse: 5.7122e-04 - val_loss: 4.8081e-04 - val_mse: 4.8081e-04 - lr: 1.0000e-06\n",
            "Epoch 38/50\n",
            "9500/9500 [==============================] - 413s 44ms/step - loss: 5.7236e-04 - mse: 5.7236e-04 - val_loss: 4.7982e-04 - val_mse: 4.7982e-04 - lr: 1.0000e-06\n",
            "Epoch 39/50\n",
            "9500/9500 [==============================] - 413s 43ms/step - loss: 5.7061e-04 - mse: 5.7061e-04 - val_loss: 4.7903e-04 - val_mse: 4.7903e-04 - lr: 1.0000e-06\n",
            "Epoch 40/50\n",
            "9500/9500 [==============================] - ETA: 0s - loss: 5.7057e-04 - mse: 5.7057e-04\n",
            "Epoch 40: ReduceLROnPlateau reducing learning rate to 1e-06.\n",
            "9500/9500 [==============================] - 414s 44ms/step - loss: 5.7057e-04 - mse: 5.7057e-04 - val_loss: 4.7805e-04 - val_mse: 4.7805e-04 - lr: 1.0000e-06\n",
            "Epoch 41/50\n",
            "9500/9500 [==============================] - 413s 43ms/step - loss: 5.6977e-04 - mse: 5.6977e-04 - val_loss: 4.7792e-04 - val_mse: 4.7792e-04 - lr: 1.0000e-06\n",
            "Epoch 42/50\n",
            "9500/9500 [==============================] - 414s 44ms/step - loss: 5.6854e-04 - mse: 5.6854e-04 - val_loss: 4.8040e-04 - val_mse: 4.8040e-04 - lr: 1.0000e-06\n",
            "Epoch 43/50\n",
            "9500/9500 [==============================] - 411s 43ms/step - loss: 5.7296e-04 - mse: 5.7296e-04 - val_loss: 4.7871e-04 - val_mse: 4.7871e-04 - lr: 1.0000e-06\n",
            "Epoch 44/50\n",
            "9500/9500 [==============================] - 413s 43ms/step - loss: 5.6881e-04 - mse: 5.6881e-04 - val_loss: 4.8179e-04 - val_mse: 4.8179e-04 - lr: 1.0000e-06\n",
            "Epoch 45/50\n",
            "9500/9500 [==============================] - 413s 43ms/step - loss: 5.7153e-04 - mse: 5.7153e-04 - val_loss: 4.8306e-04 - val_mse: 4.8306e-04 - lr: 1.0000e-06\n",
            "Epoch 46/50\n",
            "9500/9500 [==============================] - 413s 43ms/step - loss: 5.6950e-04 - mse: 5.6950e-04 - val_loss: 4.7411e-04 - val_mse: 4.7411e-04 - lr: 1.0000e-06\n",
            "Epoch 47/50\n",
            "9500/9500 [==============================] - 413s 43ms/step - loss: 5.7019e-04 - mse: 5.7019e-04 - val_loss: 4.7928e-04 - val_mse: 4.7928e-04 - lr: 1.0000e-06\n",
            "Epoch 48/50\n",
            "9500/9500 [==============================] - 414s 44ms/step - loss: 5.7040e-04 - mse: 5.7040e-04 - val_loss: 4.7918e-04 - val_mse: 4.7918e-04 - lr: 1.0000e-06\n",
            "Epoch 49/50\n",
            "9500/9500 [==============================] - 412s 43ms/step - loss: 5.7009e-04 - mse: 5.7009e-04 - val_loss: 4.8157e-04 - val_mse: 4.8157e-04 - lr: 1.0000e-06\n",
            "Epoch 50/50\n",
            "9500/9500 [==============================] - 413s 43ms/step - loss: 5.6978e-04 - mse: 5.6978e-04 - val_loss: 4.7700e-04 - val_mse: 4.7700e-04 - lr: 1.0000e-06\n"
          ]
        }
      ],
      "source": [
        "history = BSS_model.fit(train_generator,\n",
        "                      batch_size=batchsize,\n",
        "                      epochs=50,\n",
        "                      validation_data=(validation_generator),\n",
        "                      steps_per_epoch=9500,\n",
        "                      validation_steps=350,\n",
        "                      callbacks=[reduce_lr])"
      ]
    },
    {
      "cell_type": "markdown",
      "metadata": {
        "id": "R8iHZW-j_WS5"
      },
      "source": [
        "From the output, we can notice that `mse` already improves between the first and the second epoch. At the fourth one, `val_mse` reaches an exponential rate 10$^{-4}$ . However, in the last five epochs it seems to 'oscillates' around 4.8$\\times$10$^{-4}$, even if the learning rate has been decreased until reaching the minimum of 10$^{-6}$, so the learning would eventually stagnates in further epochs."
      ]
    },
    {
      "cell_type": "code",
      "execution_count": 14,
      "metadata": {
        "colab": {
          "base_uri": "https://localhost:8080/",
          "height": 295
        },
        "id": "H_kTeSoTUlhw",
        "outputId": "0e0d2e13-36cc-4398-ffc8-5eab46c60ad1"
      },
      "outputs": [
        {
          "data": {
            "image/png": "[encoded data removed]",
            "text/plain": [
              "<Figure size 432x288 with 1 Axes>"
            ]
          },
          "metadata": {
            "needs_background": "light"
          },
          "output_type": "display_data"
        }
      ],
      "source": [
        "display_MSE(history)"
      ]
    },
    {
      "cell_type": "markdown",
      "metadata": {
        "id": "9rOx0btV_cxo"
      },
      "source": [
        "As we can see in the diagram, the model does not overfit and the MSE computed over the validation is pretty much small which should anticipate that the model will obtain good results also in the evaluation on the test set."
      ]
    },
    {
      "cell_type": "markdown",
      "metadata": {
        "id": "7TJshKJTDEPR"
      },
      "source": [
        "We were asked to compute the evaluation over 20000 samples, so I've set the number of `steps=313` to obtain $313\\times64=20032$ samples. As required, I've computed the evaluation over the test set for ten times and I've stored the results in the `results` list."
      ]
    },
    {
      "cell_type": "code",
      "execution_count": 19,
      "metadata": {
        "colab": {
          "base_uri": "https://localhost:8080/"
        },
        "id": "g7lsBOihpbF5",
        "outputId": "cc3188ec-bc6d-45fe-b55c-3acacfa015cc"
      },
      "outputs": [
        {
          "name": "stdout",
          "output_type": "stream",
          "text": [
            "313/313 [==============================] - 4s 14ms/step - loss: 5.0090e-04 - mse: 5.0090e-04\n",
            "313/313 [==============================] - 4s 14ms/step - loss: 5.0583e-04 - mse: 5.0583e-04\n",
            "313/313 [==============================] - 4s 14ms/step - loss: 5.0344e-04 - mse: 5.0344e-04\n",
            "313/313 [==============================] - 4s 14ms/step - loss: 4.9871e-04 - mse: 4.9871e-04\n",
            "313/313 [==============================] - 4s 14ms/step - loss: 5.0950e-04 - mse: 5.0950e-04\n",
            "313/313 [==============================] - 4s 14ms/step - loss: 5.0628e-04 - mse: 5.0628e-04\n",
            "313/313 [==============================] - 4s 14ms/step - loss: 5.0056e-04 - mse: 5.0056e-04\n",
            "313/313 [==============================] - 4s 14ms/step - loss: 5.0483e-04 - mse: 5.0483e-04\n",
            "313/313 [==============================] - 4s 14ms/step - loss: 5.0278e-04 - mse: 5.0278e-04\n",
            "313/313 [==============================] - 4s 14ms/step - loss: 5.0281e-04 - mse: 5.0281e-04\n",
            "[[0.0005009039305150509, 0.0005009039305150509], [0.0005058324313722551, 0.0005058324313722551], [0.0005034383502788842, 0.0005034383502788842], [0.0004987141583114862, 0.0004987141583114862], [0.0005095007945783436, 0.0005095007945783436], [0.0005062773125246167, 0.0005062773125246167], [0.0005005557904951274, 0.0005005557904951274], [0.0005048310267738998, 0.0005048310267738998], [0.0005027797888033092, 0.0005027797888033092], [0.0005028125015087426, 0.0005028125015087426]]\n"
          ]
        }
      ],
      "source": [
        "results = []\n",
        "\n",
        "for i in range(0, 10):\n",
        "  results.append(BSS_model.evaluate(test_generator, steps=313))\n",
        "\n",
        "print(results)"
      ]
    },
    {
      "cell_type": "markdown",
      "metadata": {
        "id": "iURE_qtuDenP"
      },
      "source": [
        "Then, I've converted the list into a numpy array to compute the standard deviation over all the elements of the array with the `np.std` function of the NumPy library."
      ]
    },
    {
      "cell_type": "code",
      "execution_count": 21,
      "metadata": {
        "colab": {
          "base_uri": "https://localhost:8080/"
        },
        "id": "VOcBCbzop7YS",
        "outputId": "bd0ddf68-bed9-4614-88e1-4a252c30e938"
      },
      "outputs": [
        {
          "name": "stdout",
          "output_type": "stream",
          "text": [
            "3.0033400121295935e-06\n"
          ]
        }
      ],
      "source": [
        "std = np.std(np.array(results))\n",
        "print(std)"
      ]
    },
    {
      "cell_type": "markdown",
      "metadata": {
        "id": "1Q47sDrqD-Ds"
      },
      "source": [
        "The result of `std` is very small as it was expected."
      ]
    },
    {
      "cell_type": "markdown",
      "metadata": {
        "id": "bxSxI65rEGqG"
      },
      "source": [
        "Finally, I've showed some outputs of the model with the `display_prediction` function that I mentioned at the beginning of the notebook."
      ]
    },
    {
      "cell_type": "code",
      "execution_count": 22,
      "metadata": {
        "colab": {
          "base_uri": "https://localhost:8080/",
          "height": 200
        },
        "id": "tgCnAOEfqR0j",
        "outputId": "3685e890-8d32-4626-a6d4-745c4c8f9175"
      },
      "outputs": [
        {
          "data": {
            "image/png": "[encoded data removed]",
            "text/plain": [
              "<Figure size 1440x288 with 20 Axes>"
            ]
          },
          "metadata": {
            "needs_background": "light"
          },
          "output_type": "display_data"
        }
      ],
      "source": [
        "x_test, y_test = next(test_generator)\n",
        "BSS_model_pred = BSS_model.predict(x_test)\n",
        "np.delete(BSS_model_pred, 3, 1)\n",
        "display_prediction(y_test, BSS_model_pred, 32, 64)"
      ]
    },
    {
      "cell_type": "markdown",
      "metadata": {
        "id": "4ZMvirzrEV0m"
      },
      "source": [
        "The first line shows the ground truth of ten elements of the test set while the second line shows the output predicted by the model. As we can see, the result is pretty much accurate except for some very small details of the clothes."
      ]
    },
    {
      "cell_type": "code",
      "execution_count": 16,
      "metadata": {
        "id": "AS1Aprsj4-tL"
      },
      "outputs": [],
      "source": [
        "BSS_model.save_weights('BSS_model_weights.h5')"
      ]
    },
    {
      "cell_type": "markdown",
      "metadata": {
        "id": "bfnyRLZkBFmd"
      },
      "source": [
        "I've saved the weights as required and I've uploaded them [here](https://liveunibo-my.sharepoint.com/:u:/g/personal/simona_scala6_studio_unibo_it/EcIQm0UdcUlCraxtbkDiJ1UBWTyRDi14Pt2VLoZHgvXS-Q?e=gXQ2Ij) if they need to be checked."
      ]
    }
  ],
  "metadata": {
    "accelerator": "GPU",
    "colab": {
      "collapsed_sections": [],
      "name": "BSS_0001033460_(2).ipynb",
      "provenance": []
    },
    "gpuClass": "standard",
    "kernelspec": {
      "display_name": "Python 3",
      "name": "python3"
    },
    "language_info": {
      "name": "python"
    }
  },
  "nbformat": 4,
  "nbformat_minor": 0
}
